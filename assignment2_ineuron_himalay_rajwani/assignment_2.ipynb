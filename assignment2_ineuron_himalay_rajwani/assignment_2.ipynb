{
 "cells": [
  {
   "cell_type": "markdown",
   "metadata": {},
   "source": [
    "## q1\n",
    "**Write a Python Program to implement your own myreduce() function which works exactly like\n",
    "Python's built-in function reduce()**"
   ]
  },
  {
   "cell_type": "code",
   "execution_count": 41,
   "metadata": {},
   "outputs": [
    {
     "name": "stdout",
     "output_type": "stream",
     "text": [
      "[22, 33, 44, 55, 6]\n",
      "160\n"
     ]
    }
   ],
   "source": [
    "def function1(s1,s2):\n",
    "    sum1=0\n",
    "    sum1=sum1+s1+s2\n",
    "    return sum1\n",
    "def myreduce(func,list1):\n",
    "    s=len(list1)\n",
    "    sum=0\n",
    "    for i in range(s):\n",
    "        sum=func(sum,list1[i])\n",
    "        \n",
    "    return(sum)\n",
    "\n",
    "li1=[22 ,33, 44, 55, 6]\n",
    "print(li1)\n",
    "print(myreduce(function1,li1))\n",
    "\n",
    "\n",
    "    \n"
   ]
  },
  {
   "cell_type": "code",
   "execution_count": 6,
   "metadata": {},
   "outputs": [
    {
     "name": "stdout",
     "output_type": "stream",
     "text": [
      "22 33 44 55 6\n",
      "160\n"
     ]
    }
   ],
   "source": [
    "def dosum(x1, x2): \n",
    "    return x1 + x2\n",
    "\n",
    "def myreduce(func, seq):\n",
    "    first = seq[0]\n",
    "    for i in seq[1:]:\n",
    "        first = func(first, i)\n",
    "    return first\n",
    "\n",
    "print(myreduce(dosum,[ int(i) for i in input().split()]))\n",
    "                \n"
   ]
  },
  {
   "cell_type": "markdown",
   "metadata": {},
   "source": [
    "# q2\n",
    "\n",
    "**Write a Python program to implement your own myfilter() function which works exactly like\n",
    "Python's built-in function filter**"
   ]
  },
  {
   "cell_type": "code",
   "execution_count": 42,
   "metadata": {},
   "outputs": [
    {
     "name": "stdout",
     "output_type": "stream",
     "text": [
      "1 2 3 4 5 6 7 8 9\n",
      "[2, 4, 6, 8]\n"
     ]
    }
   ],
   "source": [
    "def purification(s):\n",
    "    lis2=[]\n",
    "    if s%2==0:\n",
    "        lis2.append(s)\n",
    "    return lis2\n",
    "def myfilter(filt,lis):\n",
    "    s1=[]\n",
    "    for i in lis:\n",
    "        s=filt(i)\n",
    "        s1=s1+s\n",
    "    return s1\n",
    "\n",
    "print(myfilter(purification,[ int(i) for i in input().split()]))\n",
    "\n",
    "\n",
    "    \n",
    "    "
   ]
  },
  {
   "cell_type": "markdown",
   "metadata": {},
   "source": [
    "# q3\n",
    "**Implement List comprehensions to produce the following lists.\n",
    "Write List comprehensions to produce the following Lists**"
   ]
  },
  {
   "cell_type": "code",
   "execution_count": 1,
   "metadata": {},
   "outputs": [
    {
     "data": {
      "text/plain": [
       "['A', 'C', 'A', 'D', 'G', 'I', 'L', 'D']"
      ]
     },
     "execution_count": 1,
     "metadata": {},
     "output_type": "execute_result"
    }
   ],
   "source": [
    "s=\"ACADGILD\"\n",
    "l1=[ str(i) for i in s]\n",
    "l1"
   ]
  },
  {
   "cell_type": "code",
   "execution_count": 2,
   "metadata": {},
   "outputs": [
    {
     "name": "stdout",
     "output_type": "stream",
     "text": [
      "['x', 'xx', 'xxx', 'xxxx', 'y', 'yy', 'yyy', 'yyyy', 'z', 'zz', 'zzz', 'zzzz']\n"
     ]
    }
   ],
   "source": [
    "list1 = [j*i for j in ['x', 'y', 'z'] for i in range(1, 5)]\n",
    "print(list1)"
   ]
  },
  {
   "cell_type": "code",
   "execution_count": 3,
   "metadata": {},
   "outputs": [
    {
     "name": "stdout",
     "output_type": "stream",
     "text": [
      "['x', 'y', 'z', 'xx', 'yy', 'zz', 'xxx', 'yyy', 'zzz', 'xxxx', 'yyyy', 'zzzz']\n"
     ]
    }
   ],
   "source": [
    "list2 = [i * j for j in range(1, 5) for i in ['x', 'y', 'z']]\n",
    "print(list2)"
   ]
  },
  {
   "cell_type": "code",
   "execution_count": 4,
   "metadata": {},
   "outputs": [
    {
     "name": "stdout",
     "output_type": "stream",
     "text": [
      "[[2], [3], [4], [3], [4], [5], [4], [5], [6]]\n"
     ]
    }
   ],
   "source": [
    "list3 = [[i + j] for j in [0, 1, 2] for i in range(2, 5)]\n",
    "print(list3)"
   ]
  },
  {
   "cell_type": "code",
   "execution_count": 13,
   "metadata": {},
   "outputs": [
    {
     "name": "stdout",
     "output_type": "stream",
     "text": [
      "[[2, 3, 4, 5], [3, 4, 5, 6], [4, 5, 6, 7], [5, 6, 7, 8]]\n"
     ]
    }
   ],
   "source": [
    "list4=[ [j+i  for j in range(2,6)] for i in [0,1,2,3]]\n",
    "print(list4)"
   ]
  },
  {
   "cell_type": "code",
   "execution_count": 14,
   "metadata": {},
   "outputs": [
    {
     "name": "stdout",
     "output_type": "stream",
     "text": [
      "[(1, 1), (2, 1), (3, 1), (1, 2), (2, 2), (3, 2), (1, 3), (2, 3), (3, 3)]\n"
     ]
    }
   ],
   "source": [
    "list5=[ (j,i) for i in range(1,4) for j in range(1,4)]\n",
    "print(list5)"
   ]
  },
  {
   "cell_type": "markdown",
   "metadata": {},
   "source": [
    "# q4\n",
    "**Implement a function longestWord() that takes a list of words and returns the longest one**"
   ]
  },
  {
   "cell_type": "code",
   "execution_count": 43,
   "metadata": {},
   "outputs": [
    {
     "name": "stdout",
     "output_type": "stream",
     "text": [
      "happy himalay sanjay soni\n",
      "himalay\n"
     ]
    }
   ],
   "source": [
    "def longestWord(s):\n",
    "    sum=len(s[0])\n",
    "    sum1=\"\"\n",
    "    flag=0\n",
    "    li=[]\n",
    "    for i in range(len(s)):\n",
    "        for j in range(i+1,len(s)):\n",
    "            if len(s[j])>sum:\n",
    "                sum=len(s[j])\n",
    "                sum1=s[j]\n",
    "    for i in range(len(s)):\n",
    "        if sum==len(s[i]) and sum1!=s[i]:\n",
    "            li.append(sum1)\n",
    "            li.append(s[i])\n",
    "            flag+=1\n",
    "    if flag==1:\n",
    "        return li\n",
    "    else:\n",
    "        return sum1\n",
    "        \n",
    "        \n",
    "            \n",
    "                \n",
    "s=longestWord(input().split())\n",
    "print(s)\n",
    "\n",
    "            \n",
    "            \n",
    "            "
   ]
  },
  {
   "cell_type": "markdown",
   "metadata": {},
   "source": [
    "# **TASK 2**\n",
    "\n",
    "\n",
    "q1\n",
    "\n",
    "# Write a Python Program(with class concepts) to find the area of the triangle using the below\n",
    "formula.\n",
    "area = (s*(s-a)*(s-b)*(s-c)) ** 0.5\n",
    "Function to take the length of the sides of triangle from user should be defined in the parent\n",
    "class and function to calculate the area should be defined in subclass."
   ]
  },
  {
   "cell_type": "code",
   "execution_count": 21,
   "metadata": {},
   "outputs": [
    {
     "name": "stdout",
     "output_type": "stream",
     "text": [
      "the value of side a is 3000 the value of side b is 4000 the value of side c is 6000\n",
      "the area of the traingle is 5332682.25\n"
     ]
    }
   ],
   "source": [
    "class parent_funct:\n",
    "    def __init__(self,a,b,c):\n",
    "        self.a1=a\n",
    "        self.b1=b\n",
    "        self.c1=c\n",
    "    def __str__(self):\n",
    "        return\"the value of side a is %d the value of side b is %d the value of side c is %d\" %(self.a1,self.b1,self.c1)\n",
    "    \n",
    "class child_funct(parent_funct):\n",
    "    \n",
    "    area=0\n",
    "    \n",
    "    def __init__(self, *args):\n",
    "        super(child_funct,self).__init__(*args)\n",
    "    \n",
    "    def cal(self):\n",
    "        s1=(self.a1+self.b1+self.c1)/2\n",
    "        self.area=(s1*(s1-self.a1)*(s1-self.b1)*(s1-self.c1))**0.5\n",
    "        \n",
    "        \n",
    "    def __str__(self):\n",
    "        return str(super(child_funct,self).__str__()+\"\\n\"+\"the area of the traingle is %.10s\" %(self.area))\n",
    "\n",
    "child_obj=child_funct(3000,4000,6000)\n",
    "child_obj.cal()\n",
    "print(child_obj)\n",
    "    \n",
    "    "
   ]
  },
  {
   "cell_type": "markdown",
   "metadata": {},
   "source": [
    "# q2---\n",
    "**Write a function filter_long_words() that takes a list of words and an integer n and returns the list\n",
    "of words that are longer than n.**"
   ]
  },
  {
   "cell_type": "code",
   "execution_count": 26,
   "metadata": {},
   "outputs": [
    {
     "name": "stdout",
     "output_type": "stream",
     "text": [
      "happy himalay sanjay girdhari \n",
      "5\n",
      "['himalay', 'sanjay', 'girdhari']\n"
     ]
    }
   ],
   "source": [
    "def filter_long_words(list_of_words,n):\n",
    "    list1=[ i for i in list_of_words if len(i)>n]\n",
    "    return list1\n",
    "list1=filter_long_words(input().split(),int(input()))\n",
    "print(list1)"
   ]
  },
  {
   "cell_type": "markdown",
   "metadata": {},
   "source": [
    "# q3---\n",
    "**Write a Python program using function concept that maps list of words into a list of integers\n",
    "representing the lengths of the corresponding words**\n",
    "Hint: If a list [ ab,cde,erty] is passed on to the python function output should come as [2,3,4]\n",
    "Here 2,3 and 4 are the lengths of the words in the list"
   ]
  },
  {
   "cell_type": "code",
   "execution_count": 26,
   "metadata": {},
   "outputs": [
    {
     "name": "stdout",
     "output_type": "stream",
     "text": [
      "aaaaaaaa vvvvvffdssswfgg bgfasdffreda\n",
      "[8, 15, 12]\n"
     ]
    }
   ],
   "source": [
    "def length(s):\n",
    "    list1=[ len(i) for i in s]\n",
    "    return list1\n",
    "k=length(input().split())\n",
    "print(k)\n"
   ]
  },
  {
   "cell_type": "code",
   "execution_count": 27,
   "metadata": {},
   "outputs": [
    {
     "name": "stdout",
     "output_type": "stream",
     "text": [
      "aaa ddfggb ssqwfb\n",
      "[3, 6, 6]\n"
     ]
    }
   ],
   "source": [
    "\n",
    "list1=input().split()\n",
    "lis1=list(map(lambda a:len(a),list1))\n",
    "print(lis1)\n"
   ]
  },
  {
   "cell_type": "markdown",
   "metadata": {},
   "source": [
    "# q4---\n",
    "**Write a Python function which takes a character (i.e. a string of length 1) and returns True if it is\n",
    "a vowel, False otherwise**"
   ]
  },
  {
   "cell_type": "code",
   "execution_count": 13,
   "metadata": {},
   "outputs": [
    {
     "name": "stdout",
     "output_type": "stream",
     "text": [
      "g\n",
      "False\n"
     ]
    }
   ],
   "source": [
    "def vowel(s):\n",
    "    if len(s)==1:\n",
    "        if (s==\"A\" or s==\"E\" or s==\"I\" or s==\"O\" or s==\"U\") and (s==\"a\" or s==\"e\" or s==\"i\" or s==\"o\" or  s==\"u\"):\n",
    "            return True\n",
    "        else:\n",
    "            return False\n",
    "    else:\n",
    "        return \"string must be a one character\"\n",
    "    \n",
    "s=vowel(input())\n",
    "print(s)\n",
    "            \n",
    "    \n",
    "    \n",
    "    \n",
    "    "
   ]
  },
  {
   "cell_type": "code",
   "execution_count": null,
   "metadata": {},
   "outputs": [],
   "source": []
  },
  {
   "cell_type": "code",
   "execution_count": null,
   "metadata": {},
   "outputs": [],
   "source": []
  },
  {
   "cell_type": "code",
   "execution_count": null,
   "metadata": {},
   "outputs": [],
   "source": []
  },
  {
   "cell_type": "code",
   "execution_count": 1,
   "metadata": {},
   "outputs": [],
   "source": []
  },
  {
   "cell_type": "code",
   "execution_count": null,
   "metadata": {},
   "outputs": [],
   "source": []
  },
  {
   "cell_type": "code",
   "execution_count": null,
   "metadata": {},
   "outputs": [],
   "source": []
  },
  {
   "cell_type": "code",
   "execution_count": null,
   "metadata": {},
   "outputs": [],
   "source": []
  },
  {
   "cell_type": "code",
   "execution_count": null,
   "metadata": {},
   "outputs": [],
   "source": []
  },
  {
   "cell_type": "code",
   "execution_count": null,
   "metadata": {},
   "outputs": [],
   "source": []
  }
 ],
 "metadata": {
  "kernelspec": {
   "display_name": "Python 3",
   "language": "python",
   "name": "python3"
  },
  "language_info": {
   "codemirror_mode": {
    "name": "ipython",
    "version": 3
   },
   "file_extension": ".py",
   "mimetype": "text/x-python",
   "name": "python",
   "nbconvert_exporter": "python",
   "pygments_lexer": "ipython3",
   "version": "3.7.4"
  }
 },
 "nbformat": 4,
 "nbformat_minor": 2
}
